{
 "cells": [
  {
   "cell_type": "code",
   "execution_count": 3,
   "id": "4a27e2e0",
   "metadata": {},
   "outputs": [
    {
     "name": "stdout",
     "output_type": "stream",
     "text": [
      "original numbers : [4, 5, 2, 9]\n",
      "the squares are\n",
      "[16, 25, 4, 81]\n"
     ]
    }
   ],
   "source": [
    "nums = [4, 5, 2, 9]\n",
    "print (\"original numbers :\", nums)\n",
    "result = map(lambda x: x*x, nums)\n",
    "print (\"the squares are\")\n",
    "print (list(result))"
   ]
  },
  {
   "cell_type": "code",
   "execution_count": null,
   "id": "d8b838e0",
   "metadata": {},
   "outputs": [],
   "source": []
  }
 ],
 "metadata": {
  "kernelspec": {
   "display_name": "Python 3",
   "language": "python",
   "name": "python3"
  },
  "language_info": {
   "codemirror_mode": {
    "name": "ipython",
    "version": 3
   },
   "file_extension": ".py",
   "mimetype": "text/x-python",
   "name": "python",
   "nbconvert_exporter": "python",
   "pygments_lexer": "ipython3",
   "version": "3.8.8"
  }
 },
 "nbformat": 4,
 "nbformat_minor": 5
}
